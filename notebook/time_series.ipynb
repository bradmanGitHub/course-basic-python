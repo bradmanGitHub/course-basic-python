{
 "cells": [
  {
   "cell_type": "markdown",
   "metadata": {},
   "source": [
    "# Time Series\n",
    "\n",
    "ข้อมูลในรูปแบบ time series นั้นพบอย่างมากมายในโลกของข้อมูล เช่น finance, economics, ecology, neuroscience, และ physics\n",
    "\n",
    "โดยจะเป็นชุดข้อมูล series ที่มีความถี่คงที่ เช่น ทุก ๆ  5 นาที และ 10 นาที เป็นต้น\n",
    "\n",
    "ข้อมูล time series จะขึ้นอยู่กับ application เป็นหลัก เช่น\n",
    "* Timestamp\n",
    "* Fixed period\n",
    "* Interval of time\n",
    "* Experiment หรือ elapsed time"
   ]
  },
  {
   "cell_type": "code",
   "execution_count": null,
   "metadata": {
    "collapsed": true
   },
   "outputs": [],
   "source": []
  }
 ],
 "metadata": {
  "kernelspec": {
   "display_name": "Python 3",
   "language": "python",
   "name": "python3"
  },
  "language_info": {
   "codemirror_mode": {
    "name": "ipython",
    "version": 3
   },
   "file_extension": ".py",
   "mimetype": "text/x-python",
   "name": "python",
   "nbconvert_exporter": "python",
   "pygments_lexer": "ipython3",
   "version": "3.6.2"
  }
 },
 "nbformat": 4,
 "nbformat_minor": 0
}
